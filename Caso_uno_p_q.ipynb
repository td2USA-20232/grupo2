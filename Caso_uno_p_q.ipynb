{
 "cells": [
  {
   "cell_type": "code",
   "execution_count": 7,
   "metadata": {},
   "outputs": [],
   "source": [
    "import numpy as np\n",
    "import pandas as pd \n",
    "import seaborn as sns\n",
    "import matplotlib.pyplot as plt\n",
    "import statsmodels.api as sm\n",
    "from scipy import stats\n"
   ]
  },
  {
   "cell_type": "code",
   "execution_count": 11,
   "metadata": {},
   "outputs": [
    {
     "name": "stderr",
     "output_type": "stream",
     "text": [
      "C:\\Users\\acer\\AppData\\Local\\Temp\\ipykernel_4424\\1757755306.py:2: DtypeWarning: Columns (4) have mixed types. Specify dtype option on import or set low_memory=False.\n",
      "  df = pd.read_csv(\"data.csv\")\n"
     ]
    },
    {
     "name": "stdout",
     "output_type": "stream",
     "text": [
      "         Label           Brand                                           Name  \\\n",
      "0  Moisturizer          LA MER                                Crème de la Mer   \n",
      "1  Moisturizer           SK-II                       Facial Treatment Essence   \n",
      "2  Moisturizer  DRUNK ELEPHANT                     Protini™ Polypeptide Cream   \n",
      "3  Moisturizer          LA MER                    The Moisturizing Soft Cream   \n",
      "4  Moisturizer    IT COSMETICS  Your Skin But Better™ CC+™ Cream with SPF 50+   \n",
      "\n",
      "  Cost Revenue   Price  Utility  Rank  Combination  Dry  ...  Unnamed: 991  \\\n",
      "0  175    0.15  201.25    26.25   4.1          1.0  1.0  ...           NaN   \n",
      "1  179    0.13  202.27    23.27   4.1          1.0  1.0  ...           NaN   \n",
      "2   68    0.12   76.16     8.16   4.4          1.0  1.0  ...           NaN   \n",
      "3  175    0.12  196.00    21.00   3.8          1.0  1.0  ...           NaN   \n",
      "4   38    0.09   41.42     3.42   4.1          1.0  1.0  ...           NaN   \n",
      "\n",
      "   Unnamed: 992  Unnamed: 993  Unnamed: 994  Unnamed: 995  Unnamed: 996  \\\n",
      "0           NaN           NaN           NaN           NaN           NaN   \n",
      "1           NaN           NaN           NaN           NaN           NaN   \n",
      "2           NaN           NaN           NaN           NaN           NaN   \n",
      "3           NaN           NaN           NaN           NaN           NaN   \n",
      "4           NaN           NaN           NaN           NaN           NaN   \n",
      "\n",
      "   Unnamed: 997  Unnamed: 998  Unnamed: 999  Unnamed: 1000  \n",
      "0           NaN           NaN           NaN            NaN  \n",
      "1           NaN           NaN           NaN            NaN  \n",
      "2           NaN           NaN           NaN            NaN  \n",
      "3           NaN           NaN           NaN            NaN  \n",
      "4           NaN           NaN           NaN            NaN  \n",
      "\n",
      "[5 rows x 1001 columns]\n"
     ]
    }
   ],
   "source": [
    "#Importar data\n",
    "df = pd.read_csv(\"data.csv\")\n",
    "print(df.head())"
   ]
  },
  {
   "cell_type": "code",
   "execution_count": 13,
   "metadata": {},
   "outputs": [
    {
     "name": "stderr",
     "output_type": "stream",
     "text": [
      "C:\\Users\\acer\\AppData\\Local\\Temp\\ipykernel_4424\\3481664900.py:4: DtypeWarning: Columns (4) have mixed types. Specify dtype option on import or set low_memory=False.\n",
      "  df = pd.read_csv(\"data.csv\")\n"
     ]
    },
    {
     "name": "stdout",
     "output_type": "stream",
     "text": [
      "            Label                          Brand  \\\n",
      "0     Moisturizer                         LA MER   \n",
      "1     Moisturizer                          SK-II   \n",
      "2     Moisturizer                 DRUNK ELEPHANT   \n",
      "3     Moisturizer                         LA MER   \n",
      "4     Moisturizer                   IT COSMETICS   \n",
      "...           ...                            ...   \n",
      "1467  Sun protect                         KORRES   \n",
      "1468  Sun protect                KATE SOMERVILLE   \n",
      "1469  Sun protect                  VITA LIBERATA   \n",
      "1470  Sun protect  ST. TROPEZ TANNING ESSENTIALS   \n",
      "1471  Sun protect                     DERMAFLASH   \n",
      "\n",
      "                                                   Name Cost Revenue   Price  \\\n",
      "0                                       Crème de la Mer  175    0.15  201.25   \n",
      "1                              Facial Treatment Essence  179    0.13  202.27   \n",
      "2                            Protini™ Polypeptide Cream   68    0.12   76.16   \n",
      "3                           The Moisturizing Soft Cream  175    0.12  196.00   \n",
      "4         Your Skin But Better™ CC+™ Cream with SPF 50+   38    0.09   41.42   \n",
      "...                                                 ...  ...     ...     ...   \n",
      "1467  Yoghurt Nourishing Fluid Veil Face Sunscreen B...   35     0.1   38.50   \n",
      "1468  Daily Deflector™ Waterlight Broad Spectrum SPF...   48    0.11   53.28   \n",
      "1469                            Self Tan Dry Oil SPF 50   54     0.1   59.40   \n",
      "1470                   Pro Light Self Tan Bronzing Mist   20    0.11   22.20   \n",
      "1471  DERMAPROTECT Daily Defense Broad Spectrum SPF 50+   45    0.11   49.95   \n",
      "\n",
      "      Utility  Rank  Combination  Dry  Normal  Oily  Sensitive  \n",
      "0       26.25   4.1          1.0  1.0     1.0   1.0        1.0  \n",
      "1       23.27   4.1          1.0  1.0     1.0   1.0        1.0  \n",
      "2        8.16   4.4          1.0  1.0     1.0   1.0        0.0  \n",
      "3       21.00   3.8          1.0  1.0     1.0   1.0        1.0  \n",
      "4        3.42   4.1          1.0  1.0     1.0   1.0        1.0  \n",
      "...       ...   ...          ...  ...     ...   ...        ...  \n",
      "1467     3.50   3.9          1.0  1.0     1.0   1.0        1.0  \n",
      "1468     5.28   3.6          0.0  0.0     0.0   0.0        0.0  \n",
      "1469     5.40   3.5          0.0  0.0     0.0   0.0        0.0  \n",
      "1470     2.20   1.0          0.0  0.0     0.0   0.0        0.0  \n",
      "1471     4.95   0.0          1.0  1.0     1.0   1.0        1.0  \n",
      "\n",
      "[1472 rows x 13 columns]\n"
     ]
    }
   ],
   "source": [
    "import pandas as pd\n",
    "\n",
    "# Leer el archivo CSV en un DataFrame\n",
    "df = pd.read_csv(\"data.csv\")\n",
    "\n",
    "# Seleccionar todas las filas y las columnas hasta 'Dry' (inclusive)\n",
    "new_df = df.iloc[:, :df.columns.get_loc('Sensitive')+1]\n",
    "\n",
    "# Mostrar el nuevo DataFrame\n",
    "print(new_df)\n"
   ]
  },
  {
   "cell_type": "code",
   "execution_count": 15,
   "metadata": {},
   "outputs": [
    {
     "data": {
      "text/plain": [
       "(1472, 13)"
      ]
     },
     "execution_count": 15,
     "metadata": {},
     "output_type": "execute_result"
    }
   ],
   "source": [
    "new_df.shape\n"
   ]
  },
  {
   "cell_type": "code",
   "execution_count": 16,
   "metadata": {},
   "outputs": [
    {
     "name": "stdout",
     "output_type": "stream",
     "text": [
      "         Label           Brand                                           Name  \\\n",
      "0  Moisturizer          LA MER                                Crème de la Mer   \n",
      "1  Moisturizer           SK-II                       Facial Treatment Essence   \n",
      "2  Moisturizer  DRUNK ELEPHANT                     Protini™ Polypeptide Cream   \n",
      "3  Moisturizer          LA MER                    The Moisturizing Soft Cream   \n",
      "4  Moisturizer    IT COSMETICS  Your Skin But Better™ CC+™ Cream with SPF 50+   \n",
      "\n",
      "  Cost Revenue   Price  Utility  Rank  Combination  Dry  Normal  Oily  \\\n",
      "0  175    0.15  201.25    26.25   4.1          1.0  1.0     1.0   1.0   \n",
      "1  179    0.13  202.27    23.27   4.1          1.0  1.0     1.0   1.0   \n",
      "2   68    0.12   76.16     8.16   4.4          1.0  1.0     1.0   1.0   \n",
      "3  175    0.12  196.00    21.00   3.8          1.0  1.0     1.0   1.0   \n",
      "4   38    0.09   41.42     3.42   4.1          1.0  1.0     1.0   1.0   \n",
      "\n",
      "   Sensitive  \n",
      "0        1.0  \n",
      "1        1.0  \n",
      "2        0.0  \n",
      "3        1.0  \n",
      "4        1.0  \n"
     ]
    }
   ],
   "source": [
    "print(new_df.head())\n"
   ]
  },
  {
   "cell_type": "code",
   "execution_count": 67,
   "metadata": {},
   "outputs": [
    {
     "name": "stdout",
     "output_type": "stream",
     "text": [
      "            Label                          Brand  \\\n",
      "0     Moisturizer                         LA MER   \n",
      "1     Moisturizer                          SK-II   \n",
      "2     Moisturizer                 DRUNK ELEPHANT   \n",
      "3     Moisturizer                         LA MER   \n",
      "4     Moisturizer                   IT COSMETICS   \n",
      "...           ...                            ...   \n",
      "1467  Sun protect                         KORRES   \n",
      "1468  Sun protect                KATE SOMERVILLE   \n",
      "1469  Sun protect                  VITA LIBERATA   \n",
      "1470  Sun protect  ST. TROPEZ TANNING ESSENTIALS   \n",
      "1471  Sun protect                     DERMAFLASH   \n",
      "\n",
      "                                                   Name Cost Revenue   Price  \\\n",
      "0                                       Crème de la Mer  175    0.15  201.25   \n",
      "1                              Facial Treatment Essence  179    0.13  202.27   \n",
      "2                            Protini™ Polypeptide Cream   68    0.12   76.16   \n",
      "3                           The Moisturizing Soft Cream  175    0.12  196.00   \n",
      "4         Your Skin But Better™ CC+™ Cream with SPF 50+   38    0.09   41.42   \n",
      "...                                                 ...  ...     ...     ...   \n",
      "1467  Yoghurt Nourishing Fluid Veil Face Sunscreen B...   35     0.1   38.50   \n",
      "1468  Daily Deflector™ Waterlight Broad Spectrum SPF...   48    0.11   53.28   \n",
      "1469                            Self Tan Dry Oil SPF 50   54     0.1   59.40   \n",
      "1470                   Pro Light Self Tan Bronzing Mist   20    0.11   22.20   \n",
      "1471  DERMAPROTECT Daily Defense Broad Spectrum SPF 50+   45    0.11   49.95   \n",
      "\n",
      "      Utility  Rank  Combination  Dry  Normal  Oily  Sensitive  \n",
      "0       26.25   4.1          1.0  1.0     1.0   1.0        1.0  \n",
      "1       23.27   4.1          1.0  1.0     1.0   1.0        1.0  \n",
      "2        8.16   4.4          1.0  1.0     1.0   1.0        0.0  \n",
      "3       21.00   3.8          1.0  1.0     1.0   1.0        1.0  \n",
      "4        3.42   4.1          1.0  1.0     1.0   1.0        1.0  \n",
      "...       ...   ...          ...  ...     ...   ...        ...  \n",
      "1467     3.50   3.9          1.0  1.0     1.0   1.0        1.0  \n",
      "1468     5.28   3.6          0.0  0.0     0.0   0.0        0.0  \n",
      "1469     5.40   3.5          0.0  0.0     0.0   0.0        0.0  \n",
      "1470     2.20   1.0          0.0  0.0     0.0   0.0        0.0  \n",
      "1471     4.95   0.0          1.0  1.0     1.0   1.0        1.0  \n",
      "\n",
      "[1472 rows x 13 columns]\n"
     ]
    },
    {
     "name": "stderr",
     "output_type": "stream",
     "text": [
      "C:\\Users\\ASUS\\AppData\\Local\\Temp\\ipykernel_17220\\2774417821.py:2: DtypeWarning: Columns (4) have mixed types. Specify dtype option on import or set low_memory=False.\n",
      "  df = pd.read_csv(\"data.csv\")\n"
     ]
    }
   ],
   "source": [
    "# Leer el archivo CSV en un DataFrame\n",
    "df = pd.read_csv(\"data.csv\")\n",
    "\n",
    "# Seleccionar todas las filas y las columnas hasta 'Dry' (inclusive)\n",
    "new_df = df.iloc[:, :df.columns.get_loc('Sensitive')+1]\n",
    "\n",
    "# Mostrar el nuevo DataFrame\n",
    "print(new_df)"
   ]
  },
  {
   "cell_type": "code",
   "execution_count": 84,
   "metadata": {},
   "outputs": [
    {
     "data": {
      "image/png": "[encoded data removed]",
      "text/plain": [
       "<Figure size 432x576 with 1 Axes>"
      ]
     },
     "metadata": {},
     "output_type": "display_data"
    }
   ],
   "source": [
    "#Boxplot Utility\n",
    "sns.set(style=\"whitegrid\")  # Establece el estilo del gráfico\n",
    "\n",
    "# Crear el diagrama de bigotes para la variable 'Utility'\n",
    "plt.figure(figsize=(6, 8))  # Ajusta el tamaño de la figura\n",
    "sns.boxplot(y='Price', data=new_df)  # Cambia 'Utility' por la columna adecuada\n",
    "plt.title('Diagrama de Bigotes de la Variable Utility')\n",
    "plt.ylabel('Utility')\n",
    "plt.tight_layout()  # Ajusta el espaciado entre elementos del gráfico\n",
    "plt.show()\n"
   ]
  },
  {
   "cell_type": "code",
   "execution_count": 85,
   "metadata": {},
   "outputs": [
    {
     "data": {
      "image/png": "[encoded data removed]",
      "text/plain": [
       "<Figure size 432x576 with 1 Axes>"
      ]
     },
     "metadata": {},
     "output_type": "display_data"
    }
   ],
   "source": [
    "#Boxplot Rank\n",
    "sns.set(style=\"whitegrid\")  # Establece el estilo del gráfico\n",
    "\n",
    "# Crear el diagrama de bigotes para la variable 'Rank'\n",
    "plt.figure(figsize=(6, 8))  # Ajusta el tamaño de la figura\n",
    "sns.boxplot(y='Price', data=new_df)  # Cambia 'Rank' por la columna adecuada\n",
    "plt.title('Diagrama de Bigotes de la Variable Rank')\n",
    "plt.ylabel('Rank')\n",
    "plt.tight_layout()  # Ajusta el espaciado entre elementos del gráfico\n",
    "plt.show()\n"
   ]
  },
  {
   "cell_type": "code",
   "execution_count": 86,
   "metadata": {},
   "outputs": [
    {
     "data": {
      "image/png": "[encoded data removed]",
      "text/plain": [
       "<Figure size 432x576 with 1 Axes>"
      ]
     },
     "metadata": {},
     "output_type": "display_data"
    }
   ],
   "source": [
    "#Boxplot Cost\n",
    "sns.set(style=\"whitegrid\")  # Establece el estilo del gráfico\n",
    "\n",
    "# Crear el diagrama de bigotes para la variable 'Cost'\n",
    "plt.figure(figsize=(6, 8))  # Ajusta el tamaño de la figura\n",
    "sns.boxplot(y='Price', data=new_df)  # Cambia 'Cost' por la columna adecuada\n",
    "plt.title('Diagrama de Bigotes de la Variable Cost')\n",
    "plt.ylabel('Cost')\n",
    "plt.tight_layout()  # Ajusta el espaciado entre elementos del gráfico\n",
    "plt.show()\n"
   ]
  },
  {
   "cell_type": "code",
   "execution_count": 87,
   "metadata": {},
   "outputs": [
    {
     "data": {
      "image/png": "[encoded data removed]",
      "text/plain": [
       "<Figure size 432x576 with 1 Axes>"
      ]
     },
     "metadata": {},
     "output_type": "display_data"
    }
   ],
   "source": [
    "#Boxplot Revenue\n",
    "sns.set(style=\"whitegrid\")  # Establece el estilo del gráfico\n",
    "\n",
    "# Crear el diagrama de bigotes para la variable 'Cost'\n",
    "plt.figure(figsize=(6, 8))  # Ajusta el tamaño de la figura\n",
    "sns.boxplot(y='Price', data=new_df)  # Cambia 'Cost' por la columna adecuada\n",
    "plt.title('Diagrama de Bigotes de la Variable Cost')\n",
    "plt.ylabel('Revenue')\n",
    "plt.tight_layout()  # Ajusta el espaciado entre elementos del gráfico\n",
    "plt.show()"
   ]
  }
 ],
 "metadata": {
  "kernelspec": {
   "display_name": "Python 3",
   "language": "python",
   "name": "python3"
  },
  "language_info": {
   "codemirror_mode": {
    "name": "ipython",
    "version": 3
   },
   "file_extension": ".py",
   "mimetype": "text/x-python",
   "name": "python",
   "nbconvert_exporter": "python",
   "pygments_lexer": "ipython3",
   "version": "3.11.4"
  },
  "orig_nbformat": 4
 },
 "nbformat": 4,
 "nbformat_minor": 2
}
